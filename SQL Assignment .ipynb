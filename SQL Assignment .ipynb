{
 "cells": [
  {
   "cell_type": "markdown",
   "metadata": {
    "id": "hmzI5oZ6E_Hp"
   },
   "source": [
    "# SQL Assignment"
   ]
  },
  {
   "cell_type": "code",
   "execution_count": 2,
   "metadata": {
    "id": "wso5pGwnE_Ht"
   },
   "outputs": [],
   "source": [
    "import pandas as pd\n",
    "import sqlite3\n",
    "\n",
    "from IPython.display import display, HTML"
   ]
  },
  {
   "cell_type": "code",
   "execution_count": 3,
   "metadata": {
    "id": "xrUl9ShkE_H0"
   },
   "outputs": [],
   "source": [
    "conn = sqlite3.connect(\"/Users/pinakshome/Downloads/Db-IMDB-Assignment.db\")\n",
    "cur=conn.cursor()"
   ]
  },
  {
   "cell_type": "markdown",
   "metadata": {
    "id": "Z_ADQl2BE_H6"
   },
   "source": [
    "#### Overview of all tables"
   ]
  },
  {
   "cell_type": "code",
   "execution_count": 4,
   "metadata": {
    "id": "7ZfheusYE_H7",
    "scrolled": true
   },
   "outputs": [],
   "source": [
    "tables = pd.read_sql_query(\"SELECT NAME AS 'Table_Name' FROM sqlite_master WHERE type='table'\",conn)\n",
    "tables = tables[\"Table_Name\"].values.tolist()"
   ]
  },
  {
   "cell_type": "code",
   "execution_count": 4,
   "metadata": {
    "colab": {
     "base_uri": "https://localhost:8080/",
     "height": 1000
    },
    "executionInfo": {
     "elapsed": 1573,
     "status": "ok",
     "timestamp": 1609076958858,
     "user": {
      "displayName": "Applied AI Course",
      "photoUrl": "https://lh3.googleusercontent.com/a-/AOh14GhuSQ5tWcMSEyUXWi5GYagbq0BttLJf6r6PPxrB=s64",
      "userId": "00484516897554883881"
     },
     "user_tz": -330
    },
    "id": "f3zLh5FGE_H_",
    "outputId": "a443d072-a22f-4d15-bff8-0b8a4ee78d5c",
    "scrolled": true
   },
   "outputs": [
    {
     "name": "stdout",
     "output_type": "stream",
     "text": [
      "Schema of Movie\n"
     ]
    },
    {
     "data": {
      "text/html": [
       "<div>\n",
       "<style scoped>\n",
       "    .dataframe tbody tr th:only-of-type {\n",
       "        vertical-align: middle;\n",
       "    }\n",
       "\n",
       "    .dataframe tbody tr th {\n",
       "        vertical-align: top;\n",
       "    }\n",
       "\n",
       "    .dataframe thead th {\n",
       "        text-align: right;\n",
       "    }\n",
       "</style>\n",
       "<table border=\"1\" class=\"dataframe\">\n",
       "  <thead>\n",
       "    <tr style=\"text-align: right;\">\n",
       "      <th></th>\n",
       "      <th>cid</th>\n",
       "      <th>name</th>\n",
       "      <th>type</th>\n",
       "      <th>notnull</th>\n",
       "      <th>dflt_value</th>\n",
       "      <th>pk</th>\n",
       "    </tr>\n",
       "  </thead>\n",
       "  <tbody>\n",
       "    <tr>\n",
       "      <th>0</th>\n",
       "      <td>0</td>\n",
       "      <td>index</td>\n",
       "      <td>INTEGER</td>\n",
       "      <td>0</td>\n",
       "      <td>None</td>\n",
       "      <td>0</td>\n",
       "    </tr>\n",
       "    <tr>\n",
       "      <th>1</th>\n",
       "      <td>1</td>\n",
       "      <td>MID</td>\n",
       "      <td>TEXT</td>\n",
       "      <td>0</td>\n",
       "      <td>None</td>\n",
       "      <td>0</td>\n",
       "    </tr>\n",
       "    <tr>\n",
       "      <th>2</th>\n",
       "      <td>2</td>\n",
       "      <td>title</td>\n",
       "      <td>TEXT</td>\n",
       "      <td>0</td>\n",
       "      <td>None</td>\n",
       "      <td>0</td>\n",
       "    </tr>\n",
       "    <tr>\n",
       "      <th>3</th>\n",
       "      <td>3</td>\n",
       "      <td>year</td>\n",
       "      <td>TEXT</td>\n",
       "      <td>0</td>\n",
       "      <td>None</td>\n",
       "      <td>0</td>\n",
       "    </tr>\n",
       "    <tr>\n",
       "      <th>4</th>\n",
       "      <td>4</td>\n",
       "      <td>rating</td>\n",
       "      <td>REAL</td>\n",
       "      <td>0</td>\n",
       "      <td>None</td>\n",
       "      <td>0</td>\n",
       "    </tr>\n",
       "    <tr>\n",
       "      <th>5</th>\n",
       "      <td>5</td>\n",
       "      <td>num_votes</td>\n",
       "      <td>INTEGER</td>\n",
       "      <td>0</td>\n",
       "      <td>None</td>\n",
       "      <td>0</td>\n",
       "    </tr>\n",
       "  </tbody>\n",
       "</table>\n",
       "</div>"
      ],
      "text/plain": [
       "   cid       name     type  notnull dflt_value  pk\n",
       "0    0      index  INTEGER        0       None   0\n",
       "1    1        MID     TEXT        0       None   0\n",
       "2    2      title     TEXT        0       None   0\n",
       "3    3       year     TEXT        0       None   0\n",
       "4    4     rating     REAL        0       None   0\n",
       "5    5  num_votes  INTEGER        0       None   0"
      ]
     },
     "metadata": {},
     "output_type": "display_data"
    },
    {
     "name": "stdout",
     "output_type": "stream",
     "text": [
      "----------------------------------------------------------------------------------------------------\n",
      "\n",
      "\n",
      "Schema of Genre\n"
     ]
    },
    {
     "data": {
      "text/html": [
       "<div>\n",
       "<style scoped>\n",
       "    .dataframe tbody tr th:only-of-type {\n",
       "        vertical-align: middle;\n",
       "    }\n",
       "\n",
       "    .dataframe tbody tr th {\n",
       "        vertical-align: top;\n",
       "    }\n",
       "\n",
       "    .dataframe thead th {\n",
       "        text-align: right;\n",
       "    }\n",
       "</style>\n",
       "<table border=\"1\" class=\"dataframe\">\n",
       "  <thead>\n",
       "    <tr style=\"text-align: right;\">\n",
       "      <th></th>\n",
       "      <th>cid</th>\n",
       "      <th>name</th>\n",
       "      <th>type</th>\n",
       "      <th>notnull</th>\n",
       "      <th>dflt_value</th>\n",
       "      <th>pk</th>\n",
       "    </tr>\n",
       "  </thead>\n",
       "  <tbody>\n",
       "    <tr>\n",
       "      <th>0</th>\n",
       "      <td>0</td>\n",
       "      <td>index</td>\n",
       "      <td>INTEGER</td>\n",
       "      <td>0</td>\n",
       "      <td>None</td>\n",
       "      <td>0</td>\n",
       "    </tr>\n",
       "    <tr>\n",
       "      <th>1</th>\n",
       "      <td>1</td>\n",
       "      <td>Name</td>\n",
       "      <td>TEXT</td>\n",
       "      <td>0</td>\n",
       "      <td>None</td>\n",
       "      <td>0</td>\n",
       "    </tr>\n",
       "    <tr>\n",
       "      <th>2</th>\n",
       "      <td>2</td>\n",
       "      <td>GID</td>\n",
       "      <td>INTEGER</td>\n",
       "      <td>0</td>\n",
       "      <td>None</td>\n",
       "      <td>0</td>\n",
       "    </tr>\n",
       "  </tbody>\n",
       "</table>\n",
       "</div>"
      ],
      "text/plain": [
       "   cid   name     type  notnull dflt_value  pk\n",
       "0    0  index  INTEGER        0       None   0\n",
       "1    1   Name     TEXT        0       None   0\n",
       "2    2    GID  INTEGER        0       None   0"
      ]
     },
     "metadata": {},
     "output_type": "display_data"
    },
    {
     "name": "stdout",
     "output_type": "stream",
     "text": [
      "----------------------------------------------------------------------------------------------------\n",
      "\n",
      "\n",
      "Schema of Language\n"
     ]
    },
    {
     "data": {
      "text/html": [
       "<div>\n",
       "<style scoped>\n",
       "    .dataframe tbody tr th:only-of-type {\n",
       "        vertical-align: middle;\n",
       "    }\n",
       "\n",
       "    .dataframe tbody tr th {\n",
       "        vertical-align: top;\n",
       "    }\n",
       "\n",
       "    .dataframe thead th {\n",
       "        text-align: right;\n",
       "    }\n",
       "</style>\n",
       "<table border=\"1\" class=\"dataframe\">\n",
       "  <thead>\n",
       "    <tr style=\"text-align: right;\">\n",
       "      <th></th>\n",
       "      <th>cid</th>\n",
       "      <th>name</th>\n",
       "      <th>type</th>\n",
       "      <th>notnull</th>\n",
       "      <th>dflt_value</th>\n",
       "      <th>pk</th>\n",
       "    </tr>\n",
       "  </thead>\n",
       "  <tbody>\n",
       "    <tr>\n",
       "      <th>0</th>\n",
       "      <td>0</td>\n",
       "      <td>index</td>\n",
       "      <td>INTEGER</td>\n",
       "      <td>0</td>\n",
       "      <td>None</td>\n",
       "      <td>0</td>\n",
       "    </tr>\n",
       "    <tr>\n",
       "      <th>1</th>\n",
       "      <td>1</td>\n",
       "      <td>Name</td>\n",
       "      <td>TEXT</td>\n",
       "      <td>0</td>\n",
       "      <td>None</td>\n",
       "      <td>0</td>\n",
       "    </tr>\n",
       "    <tr>\n",
       "      <th>2</th>\n",
       "      <td>2</td>\n",
       "      <td>LAID</td>\n",
       "      <td>INTEGER</td>\n",
       "      <td>0</td>\n",
       "      <td>None</td>\n",
       "      <td>0</td>\n",
       "    </tr>\n",
       "  </tbody>\n",
       "</table>\n",
       "</div>"
      ],
      "text/plain": [
       "   cid   name     type  notnull dflt_value  pk\n",
       "0    0  index  INTEGER        0       None   0\n",
       "1    1   Name     TEXT        0       None   0\n",
       "2    2   LAID  INTEGER        0       None   0"
      ]
     },
     "metadata": {},
     "output_type": "display_data"
    },
    {
     "name": "stdout",
     "output_type": "stream",
     "text": [
      "----------------------------------------------------------------------------------------------------\n",
      "\n",
      "\n",
      "Schema of Country\n"
     ]
    },
    {
     "data": {
      "text/html": [
       "<div>\n",
       "<style scoped>\n",
       "    .dataframe tbody tr th:only-of-type {\n",
       "        vertical-align: middle;\n",
       "    }\n",
       "\n",
       "    .dataframe tbody tr th {\n",
       "        vertical-align: top;\n",
       "    }\n",
       "\n",
       "    .dataframe thead th {\n",
       "        text-align: right;\n",
       "    }\n",
       "</style>\n",
       "<table border=\"1\" class=\"dataframe\">\n",
       "  <thead>\n",
       "    <tr style=\"text-align: right;\">\n",
       "      <th></th>\n",
       "      <th>cid</th>\n",
       "      <th>name</th>\n",
       "      <th>type</th>\n",
       "      <th>notnull</th>\n",
       "      <th>dflt_value</th>\n",
       "      <th>pk</th>\n",
       "    </tr>\n",
       "  </thead>\n",
       "  <tbody>\n",
       "    <tr>\n",
       "      <th>0</th>\n",
       "      <td>0</td>\n",
       "      <td>index</td>\n",
       "      <td>INTEGER</td>\n",
       "      <td>0</td>\n",
       "      <td>None</td>\n",
       "      <td>0</td>\n",
       "    </tr>\n",
       "    <tr>\n",
       "      <th>1</th>\n",
       "      <td>1</td>\n",
       "      <td>Name</td>\n",
       "      <td>TEXT</td>\n",
       "      <td>0</td>\n",
       "      <td>None</td>\n",
       "      <td>0</td>\n",
       "    </tr>\n",
       "    <tr>\n",
       "      <th>2</th>\n",
       "      <td>2</td>\n",
       "      <td>CID</td>\n",
       "      <td>INTEGER</td>\n",
       "      <td>0</td>\n",
       "      <td>None</td>\n",
       "      <td>0</td>\n",
       "    </tr>\n",
       "  </tbody>\n",
       "</table>\n",
       "</div>"
      ],
      "text/plain": [
       "   cid   name     type  notnull dflt_value  pk\n",
       "0    0  index  INTEGER        0       None   0\n",
       "1    1   Name     TEXT        0       None   0\n",
       "2    2    CID  INTEGER        0       None   0"
      ]
     },
     "metadata": {},
     "output_type": "display_data"
    },
    {
     "name": "stdout",
     "output_type": "stream",
     "text": [
      "----------------------------------------------------------------------------------------------------\n",
      "\n",
      "\n",
      "Schema of Location\n"
     ]
    },
    {
     "data": {
      "text/html": [
       "<div>\n",
       "<style scoped>\n",
       "    .dataframe tbody tr th:only-of-type {\n",
       "        vertical-align: middle;\n",
       "    }\n",
       "\n",
       "    .dataframe tbody tr th {\n",
       "        vertical-align: top;\n",
       "    }\n",
       "\n",
       "    .dataframe thead th {\n",
       "        text-align: right;\n",
       "    }\n",
       "</style>\n",
       "<table border=\"1\" class=\"dataframe\">\n",
       "  <thead>\n",
       "    <tr style=\"text-align: right;\">\n",
       "      <th></th>\n",
       "      <th>cid</th>\n",
       "      <th>name</th>\n",
       "      <th>type</th>\n",
       "      <th>notnull</th>\n",
       "      <th>dflt_value</th>\n",
       "      <th>pk</th>\n",
       "    </tr>\n",
       "  </thead>\n",
       "  <tbody>\n",
       "    <tr>\n",
       "      <th>0</th>\n",
       "      <td>0</td>\n",
       "      <td>index</td>\n",
       "      <td>INTEGER</td>\n",
       "      <td>0</td>\n",
       "      <td>None</td>\n",
       "      <td>0</td>\n",
       "    </tr>\n",
       "    <tr>\n",
       "      <th>1</th>\n",
       "      <td>1</td>\n",
       "      <td>Name</td>\n",
       "      <td>TEXT</td>\n",
       "      <td>0</td>\n",
       "      <td>None</td>\n",
       "      <td>0</td>\n",
       "    </tr>\n",
       "    <tr>\n",
       "      <th>2</th>\n",
       "      <td>2</td>\n",
       "      <td>LID</td>\n",
       "      <td>INTEGER</td>\n",
       "      <td>0</td>\n",
       "      <td>None</td>\n",
       "      <td>0</td>\n",
       "    </tr>\n",
       "  </tbody>\n",
       "</table>\n",
       "</div>"
      ],
      "text/plain": [
       "   cid   name     type  notnull dflt_value  pk\n",
       "0    0  index  INTEGER        0       None   0\n",
       "1    1   Name     TEXT        0       None   0\n",
       "2    2    LID  INTEGER        0       None   0"
      ]
     },
     "metadata": {},
     "output_type": "display_data"
    },
    {
     "name": "stdout",
     "output_type": "stream",
     "text": [
      "----------------------------------------------------------------------------------------------------\n",
      "\n",
      "\n",
      "Schema of M_Location\n"
     ]
    },
    {
     "data": {
      "text/html": [
       "<div>\n",
       "<style scoped>\n",
       "    .dataframe tbody tr th:only-of-type {\n",
       "        vertical-align: middle;\n",
       "    }\n",
       "\n",
       "    .dataframe tbody tr th {\n",
       "        vertical-align: top;\n",
       "    }\n",
       "\n",
       "    .dataframe thead th {\n",
       "        text-align: right;\n",
       "    }\n",
       "</style>\n",
       "<table border=\"1\" class=\"dataframe\">\n",
       "  <thead>\n",
       "    <tr style=\"text-align: right;\">\n",
       "      <th></th>\n",
       "      <th>cid</th>\n",
       "      <th>name</th>\n",
       "      <th>type</th>\n",
       "      <th>notnull</th>\n",
       "      <th>dflt_value</th>\n",
       "      <th>pk</th>\n",
       "    </tr>\n",
       "  </thead>\n",
       "  <tbody>\n",
       "    <tr>\n",
       "      <th>0</th>\n",
       "      <td>0</td>\n",
       "      <td>index</td>\n",
       "      <td>INTEGER</td>\n",
       "      <td>0</td>\n",
       "      <td>None</td>\n",
       "      <td>0</td>\n",
       "    </tr>\n",
       "    <tr>\n",
       "      <th>1</th>\n",
       "      <td>1</td>\n",
       "      <td>MID</td>\n",
       "      <td>TEXT</td>\n",
       "      <td>0</td>\n",
       "      <td>None</td>\n",
       "      <td>0</td>\n",
       "    </tr>\n",
       "    <tr>\n",
       "      <th>2</th>\n",
       "      <td>2</td>\n",
       "      <td>LID</td>\n",
       "      <td>REAL</td>\n",
       "      <td>0</td>\n",
       "      <td>None</td>\n",
       "      <td>0</td>\n",
       "    </tr>\n",
       "    <tr>\n",
       "      <th>3</th>\n",
       "      <td>3</td>\n",
       "      <td>ID</td>\n",
       "      <td>INTEGER</td>\n",
       "      <td>0</td>\n",
       "      <td>None</td>\n",
       "      <td>0</td>\n",
       "    </tr>\n",
       "  </tbody>\n",
       "</table>\n",
       "</div>"
      ],
      "text/plain": [
       "   cid   name     type  notnull dflt_value  pk\n",
       "0    0  index  INTEGER        0       None   0\n",
       "1    1    MID     TEXT        0       None   0\n",
       "2    2    LID     REAL        0       None   0\n",
       "3    3     ID  INTEGER        0       None   0"
      ]
     },
     "metadata": {},
     "output_type": "display_data"
    },
    {
     "name": "stdout",
     "output_type": "stream",
     "text": [
      "----------------------------------------------------------------------------------------------------\n",
      "\n",
      "\n",
      "Schema of M_Country\n"
     ]
    },
    {
     "data": {
      "text/html": [
       "<div>\n",
       "<style scoped>\n",
       "    .dataframe tbody tr th:only-of-type {\n",
       "        vertical-align: middle;\n",
       "    }\n",
       "\n",
       "    .dataframe tbody tr th {\n",
       "        vertical-align: top;\n",
       "    }\n",
       "\n",
       "    .dataframe thead th {\n",
       "        text-align: right;\n",
       "    }\n",
       "</style>\n",
       "<table border=\"1\" class=\"dataframe\">\n",
       "  <thead>\n",
       "    <tr style=\"text-align: right;\">\n",
       "      <th></th>\n",
       "      <th>cid</th>\n",
       "      <th>name</th>\n",
       "      <th>type</th>\n",
       "      <th>notnull</th>\n",
       "      <th>dflt_value</th>\n",
       "      <th>pk</th>\n",
       "    </tr>\n",
       "  </thead>\n",
       "  <tbody>\n",
       "    <tr>\n",
       "      <th>0</th>\n",
       "      <td>0</td>\n",
       "      <td>index</td>\n",
       "      <td>INTEGER</td>\n",
       "      <td>0</td>\n",
       "      <td>None</td>\n",
       "      <td>0</td>\n",
       "    </tr>\n",
       "    <tr>\n",
       "      <th>1</th>\n",
       "      <td>1</td>\n",
       "      <td>MID</td>\n",
       "      <td>TEXT</td>\n",
       "      <td>0</td>\n",
       "      <td>None</td>\n",
       "      <td>0</td>\n",
       "    </tr>\n",
       "    <tr>\n",
       "      <th>2</th>\n",
       "      <td>2</td>\n",
       "      <td>CID</td>\n",
       "      <td>REAL</td>\n",
       "      <td>0</td>\n",
       "      <td>None</td>\n",
       "      <td>0</td>\n",
       "    </tr>\n",
       "    <tr>\n",
       "      <th>3</th>\n",
       "      <td>3</td>\n",
       "      <td>ID</td>\n",
       "      <td>INTEGER</td>\n",
       "      <td>0</td>\n",
       "      <td>None</td>\n",
       "      <td>0</td>\n",
       "    </tr>\n",
       "  </tbody>\n",
       "</table>\n",
       "</div>"
      ],
      "text/plain": [
       "   cid   name     type  notnull dflt_value  pk\n",
       "0    0  index  INTEGER        0       None   0\n",
       "1    1    MID     TEXT        0       None   0\n",
       "2    2    CID     REAL        0       None   0\n",
       "3    3     ID  INTEGER        0       None   0"
      ]
     },
     "metadata": {},
     "output_type": "display_data"
    },
    {
     "name": "stdout",
     "output_type": "stream",
     "text": [
      "----------------------------------------------------------------------------------------------------\n",
      "\n",
      "\n",
      "Schema of M_Language\n"
     ]
    },
    {
     "data": {
      "text/html": [
       "<div>\n",
       "<style scoped>\n",
       "    .dataframe tbody tr th:only-of-type {\n",
       "        vertical-align: middle;\n",
       "    }\n",
       "\n",
       "    .dataframe tbody tr th {\n",
       "        vertical-align: top;\n",
       "    }\n",
       "\n",
       "    .dataframe thead th {\n",
       "        text-align: right;\n",
       "    }\n",
       "</style>\n",
       "<table border=\"1\" class=\"dataframe\">\n",
       "  <thead>\n",
       "    <tr style=\"text-align: right;\">\n",
       "      <th></th>\n",
       "      <th>cid</th>\n",
       "      <th>name</th>\n",
       "      <th>type</th>\n",
       "      <th>notnull</th>\n",
       "      <th>dflt_value</th>\n",
       "      <th>pk</th>\n",
       "    </tr>\n",
       "  </thead>\n",
       "  <tbody>\n",
       "    <tr>\n",
       "      <th>0</th>\n",
       "      <td>0</td>\n",
       "      <td>index</td>\n",
       "      <td>INTEGER</td>\n",
       "      <td>0</td>\n",
       "      <td>None</td>\n",
       "      <td>0</td>\n",
       "    </tr>\n",
       "    <tr>\n",
       "      <th>1</th>\n",
       "      <td>1</td>\n",
       "      <td>MID</td>\n",
       "      <td>TEXT</td>\n",
       "      <td>0</td>\n",
       "      <td>None</td>\n",
       "      <td>0</td>\n",
       "    </tr>\n",
       "    <tr>\n",
       "      <th>2</th>\n",
       "      <td>2</td>\n",
       "      <td>LAID</td>\n",
       "      <td>INTEGER</td>\n",
       "      <td>0</td>\n",
       "      <td>None</td>\n",
       "      <td>0</td>\n",
       "    </tr>\n",
       "    <tr>\n",
       "      <th>3</th>\n",
       "      <td>3</td>\n",
       "      <td>ID</td>\n",
       "      <td>INTEGER</td>\n",
       "      <td>0</td>\n",
       "      <td>None</td>\n",
       "      <td>0</td>\n",
       "    </tr>\n",
       "  </tbody>\n",
       "</table>\n",
       "</div>"
      ],
      "text/plain": [
       "   cid   name     type  notnull dflt_value  pk\n",
       "0    0  index  INTEGER        0       None   0\n",
       "1    1    MID     TEXT        0       None   0\n",
       "2    2   LAID  INTEGER        0       None   0\n",
       "3    3     ID  INTEGER        0       None   0"
      ]
     },
     "metadata": {},
     "output_type": "display_data"
    },
    {
     "name": "stdout",
     "output_type": "stream",
     "text": [
      "----------------------------------------------------------------------------------------------------\n",
      "\n",
      "\n",
      "Schema of M_Genre\n"
     ]
    },
    {
     "data": {
      "text/html": [
       "<div>\n",
       "<style scoped>\n",
       "    .dataframe tbody tr th:only-of-type {\n",
       "        vertical-align: middle;\n",
       "    }\n",
       "\n",
       "    .dataframe tbody tr th {\n",
       "        vertical-align: top;\n",
       "    }\n",
       "\n",
       "    .dataframe thead th {\n",
       "        text-align: right;\n",
       "    }\n",
       "</style>\n",
       "<table border=\"1\" class=\"dataframe\">\n",
       "  <thead>\n",
       "    <tr style=\"text-align: right;\">\n",
       "      <th></th>\n",
       "      <th>cid</th>\n",
       "      <th>name</th>\n",
       "      <th>type</th>\n",
       "      <th>notnull</th>\n",
       "      <th>dflt_value</th>\n",
       "      <th>pk</th>\n",
       "    </tr>\n",
       "  </thead>\n",
       "  <tbody>\n",
       "    <tr>\n",
       "      <th>0</th>\n",
       "      <td>0</td>\n",
       "      <td>index</td>\n",
       "      <td>INTEGER</td>\n",
       "      <td>0</td>\n",
       "      <td>None</td>\n",
       "      <td>0</td>\n",
       "    </tr>\n",
       "    <tr>\n",
       "      <th>1</th>\n",
       "      <td>1</td>\n",
       "      <td>MID</td>\n",
       "      <td>TEXT</td>\n",
       "      <td>0</td>\n",
       "      <td>None</td>\n",
       "      <td>0</td>\n",
       "    </tr>\n",
       "    <tr>\n",
       "      <th>2</th>\n",
       "      <td>2</td>\n",
       "      <td>GID</td>\n",
       "      <td>INTEGER</td>\n",
       "      <td>0</td>\n",
       "      <td>None</td>\n",
       "      <td>0</td>\n",
       "    </tr>\n",
       "    <tr>\n",
       "      <th>3</th>\n",
       "      <td>3</td>\n",
       "      <td>ID</td>\n",
       "      <td>INTEGER</td>\n",
       "      <td>0</td>\n",
       "      <td>None</td>\n",
       "      <td>0</td>\n",
       "    </tr>\n",
       "  </tbody>\n",
       "</table>\n",
       "</div>"
      ],
      "text/plain": [
       "   cid   name     type  notnull dflt_value  pk\n",
       "0    0  index  INTEGER        0       None   0\n",
       "1    1    MID     TEXT        0       None   0\n",
       "2    2    GID  INTEGER        0       None   0\n",
       "3    3     ID  INTEGER        0       None   0"
      ]
     },
     "metadata": {},
     "output_type": "display_data"
    },
    {
     "name": "stdout",
     "output_type": "stream",
     "text": [
      "----------------------------------------------------------------------------------------------------\n",
      "\n",
      "\n",
      "Schema of Person\n"
     ]
    },
    {
     "data": {
      "text/html": [
       "<div>\n",
       "<style scoped>\n",
       "    .dataframe tbody tr th:only-of-type {\n",
       "        vertical-align: middle;\n",
       "    }\n",
       "\n",
       "    .dataframe tbody tr th {\n",
       "        vertical-align: top;\n",
       "    }\n",
       "\n",
       "    .dataframe thead th {\n",
       "        text-align: right;\n",
       "    }\n",
       "</style>\n",
       "<table border=\"1\" class=\"dataframe\">\n",
       "  <thead>\n",
       "    <tr style=\"text-align: right;\">\n",
       "      <th></th>\n",
       "      <th>cid</th>\n",
       "      <th>name</th>\n",
       "      <th>type</th>\n",
       "      <th>notnull</th>\n",
       "      <th>dflt_value</th>\n",
       "      <th>pk</th>\n",
       "    </tr>\n",
       "  </thead>\n",
       "  <tbody>\n",
       "    <tr>\n",
       "      <th>0</th>\n",
       "      <td>0</td>\n",
       "      <td>index</td>\n",
       "      <td>INTEGER</td>\n",
       "      <td>0</td>\n",
       "      <td>None</td>\n",
       "      <td>0</td>\n",
       "    </tr>\n",
       "    <tr>\n",
       "      <th>1</th>\n",
       "      <td>1</td>\n",
       "      <td>PID</td>\n",
       "      <td>TEXT</td>\n",
       "      <td>0</td>\n",
       "      <td>None</td>\n",
       "      <td>0</td>\n",
       "    </tr>\n",
       "    <tr>\n",
       "      <th>2</th>\n",
       "      <td>2</td>\n",
       "      <td>Name</td>\n",
       "      <td>TEXT</td>\n",
       "      <td>0</td>\n",
       "      <td>None</td>\n",
       "      <td>0</td>\n",
       "    </tr>\n",
       "    <tr>\n",
       "      <th>3</th>\n",
       "      <td>3</td>\n",
       "      <td>Gender</td>\n",
       "      <td>TEXT</td>\n",
       "      <td>0</td>\n",
       "      <td>None</td>\n",
       "      <td>0</td>\n",
       "    </tr>\n",
       "  </tbody>\n",
       "</table>\n",
       "</div>"
      ],
      "text/plain": [
       "   cid    name     type  notnull dflt_value  pk\n",
       "0    0   index  INTEGER        0       None   0\n",
       "1    1     PID     TEXT        0       None   0\n",
       "2    2    Name     TEXT        0       None   0\n",
       "3    3  Gender     TEXT        0       None   0"
      ]
     },
     "metadata": {},
     "output_type": "display_data"
    },
    {
     "name": "stdout",
     "output_type": "stream",
     "text": [
      "----------------------------------------------------------------------------------------------------\n",
      "\n",
      "\n",
      "Schema of M_Producer\n"
     ]
    },
    {
     "data": {
      "text/html": [
       "<div>\n",
       "<style scoped>\n",
       "    .dataframe tbody tr th:only-of-type {\n",
       "        vertical-align: middle;\n",
       "    }\n",
       "\n",
       "    .dataframe tbody tr th {\n",
       "        vertical-align: top;\n",
       "    }\n",
       "\n",
       "    .dataframe thead th {\n",
       "        text-align: right;\n",
       "    }\n",
       "</style>\n",
       "<table border=\"1\" class=\"dataframe\">\n",
       "  <thead>\n",
       "    <tr style=\"text-align: right;\">\n",
       "      <th></th>\n",
       "      <th>cid</th>\n",
       "      <th>name</th>\n",
       "      <th>type</th>\n",
       "      <th>notnull</th>\n",
       "      <th>dflt_value</th>\n",
       "      <th>pk</th>\n",
       "    </tr>\n",
       "  </thead>\n",
       "  <tbody>\n",
       "    <tr>\n",
       "      <th>0</th>\n",
       "      <td>0</td>\n",
       "      <td>index</td>\n",
       "      <td>INTEGER</td>\n",
       "      <td>0</td>\n",
       "      <td>None</td>\n",
       "      <td>0</td>\n",
       "    </tr>\n",
       "    <tr>\n",
       "      <th>1</th>\n",
       "      <td>1</td>\n",
       "      <td>MID</td>\n",
       "      <td>TEXT</td>\n",
       "      <td>0</td>\n",
       "      <td>None</td>\n",
       "      <td>0</td>\n",
       "    </tr>\n",
       "    <tr>\n",
       "      <th>2</th>\n",
       "      <td>2</td>\n",
       "      <td>PID</td>\n",
       "      <td>TEXT</td>\n",
       "      <td>0</td>\n",
       "      <td>None</td>\n",
       "      <td>0</td>\n",
       "    </tr>\n",
       "    <tr>\n",
       "      <th>3</th>\n",
       "      <td>3</td>\n",
       "      <td>ID</td>\n",
       "      <td>INTEGER</td>\n",
       "      <td>0</td>\n",
       "      <td>None</td>\n",
       "      <td>0</td>\n",
       "    </tr>\n",
       "  </tbody>\n",
       "</table>\n",
       "</div>"
      ],
      "text/plain": [
       "   cid   name     type  notnull dflt_value  pk\n",
       "0    0  index  INTEGER        0       None   0\n",
       "1    1    MID     TEXT        0       None   0\n",
       "2    2    PID     TEXT        0       None   0\n",
       "3    3     ID  INTEGER        0       None   0"
      ]
     },
     "metadata": {},
     "output_type": "display_data"
    },
    {
     "name": "stdout",
     "output_type": "stream",
     "text": [
      "----------------------------------------------------------------------------------------------------\n",
      "\n",
      "\n",
      "Schema of M_Director\n"
     ]
    },
    {
     "data": {
      "text/html": [
       "<div>\n",
       "<style scoped>\n",
       "    .dataframe tbody tr th:only-of-type {\n",
       "        vertical-align: middle;\n",
       "    }\n",
       "\n",
       "    .dataframe tbody tr th {\n",
       "        vertical-align: top;\n",
       "    }\n",
       "\n",
       "    .dataframe thead th {\n",
       "        text-align: right;\n",
       "    }\n",
       "</style>\n",
       "<table border=\"1\" class=\"dataframe\">\n",
       "  <thead>\n",
       "    <tr style=\"text-align: right;\">\n",
       "      <th></th>\n",
       "      <th>cid</th>\n",
       "      <th>name</th>\n",
       "      <th>type</th>\n",
       "      <th>notnull</th>\n",
       "      <th>dflt_value</th>\n",
       "      <th>pk</th>\n",
       "    </tr>\n",
       "  </thead>\n",
       "  <tbody>\n",
       "    <tr>\n",
       "      <th>0</th>\n",
       "      <td>0</td>\n",
       "      <td>index</td>\n",
       "      <td>INTEGER</td>\n",
       "      <td>0</td>\n",
       "      <td>None</td>\n",
       "      <td>0</td>\n",
       "    </tr>\n",
       "    <tr>\n",
       "      <th>1</th>\n",
       "      <td>1</td>\n",
       "      <td>MID</td>\n",
       "      <td>TEXT</td>\n",
       "      <td>0</td>\n",
       "      <td>None</td>\n",
       "      <td>0</td>\n",
       "    </tr>\n",
       "    <tr>\n",
       "      <th>2</th>\n",
       "      <td>2</td>\n",
       "      <td>PID</td>\n",
       "      <td>TEXT</td>\n",
       "      <td>0</td>\n",
       "      <td>None</td>\n",
       "      <td>0</td>\n",
       "    </tr>\n",
       "    <tr>\n",
       "      <th>3</th>\n",
       "      <td>3</td>\n",
       "      <td>ID</td>\n",
       "      <td>INTEGER</td>\n",
       "      <td>0</td>\n",
       "      <td>None</td>\n",
       "      <td>0</td>\n",
       "    </tr>\n",
       "  </tbody>\n",
       "</table>\n",
       "</div>"
      ],
      "text/plain": [
       "   cid   name     type  notnull dflt_value  pk\n",
       "0    0  index  INTEGER        0       None   0\n",
       "1    1    MID     TEXT        0       None   0\n",
       "2    2    PID     TEXT        0       None   0\n",
       "3    3     ID  INTEGER        0       None   0"
      ]
     },
     "metadata": {},
     "output_type": "display_data"
    },
    {
     "name": "stdout",
     "output_type": "stream",
     "text": [
      "----------------------------------------------------------------------------------------------------\n",
      "\n",
      "\n",
      "Schema of M_Cast\n"
     ]
    },
    {
     "data": {
      "text/html": [
       "<div>\n",
       "<style scoped>\n",
       "    .dataframe tbody tr th:only-of-type {\n",
       "        vertical-align: middle;\n",
       "    }\n",
       "\n",
       "    .dataframe tbody tr th {\n",
       "        vertical-align: top;\n",
       "    }\n",
       "\n",
       "    .dataframe thead th {\n",
       "        text-align: right;\n",
       "    }\n",
       "</style>\n",
       "<table border=\"1\" class=\"dataframe\">\n",
       "  <thead>\n",
       "    <tr style=\"text-align: right;\">\n",
       "      <th></th>\n",
       "      <th>cid</th>\n",
       "      <th>name</th>\n",
       "      <th>type</th>\n",
       "      <th>notnull</th>\n",
       "      <th>dflt_value</th>\n",
       "      <th>pk</th>\n",
       "    </tr>\n",
       "  </thead>\n",
       "  <tbody>\n",
       "    <tr>\n",
       "      <th>0</th>\n",
       "      <td>0</td>\n",
       "      <td>index</td>\n",
       "      <td>INTEGER</td>\n",
       "      <td>0</td>\n",
       "      <td>None</td>\n",
       "      <td>0</td>\n",
       "    </tr>\n",
       "    <tr>\n",
       "      <th>1</th>\n",
       "      <td>1</td>\n",
       "      <td>MID</td>\n",
       "      <td>TEXT</td>\n",
       "      <td>0</td>\n",
       "      <td>None</td>\n",
       "      <td>0</td>\n",
       "    </tr>\n",
       "    <tr>\n",
       "      <th>2</th>\n",
       "      <td>2</td>\n",
       "      <td>PID</td>\n",
       "      <td>TEXT</td>\n",
       "      <td>0</td>\n",
       "      <td>None</td>\n",
       "      <td>0</td>\n",
       "    </tr>\n",
       "    <tr>\n",
       "      <th>3</th>\n",
       "      <td>3</td>\n",
       "      <td>ID</td>\n",
       "      <td>INTEGER</td>\n",
       "      <td>0</td>\n",
       "      <td>None</td>\n",
       "      <td>0</td>\n",
       "    </tr>\n",
       "  </tbody>\n",
       "</table>\n",
       "</div>"
      ],
      "text/plain": [
       "   cid   name     type  notnull dflt_value  pk\n",
       "0    0  index  INTEGER        0       None   0\n",
       "1    1    MID     TEXT        0       None   0\n",
       "2    2    PID     TEXT        0       None   0\n",
       "3    3     ID  INTEGER        0       None   0"
      ]
     },
     "metadata": {},
     "output_type": "display_data"
    },
    {
     "name": "stdout",
     "output_type": "stream",
     "text": [
      "----------------------------------------------------------------------------------------------------\n",
      "\n",
      "\n"
     ]
    }
   ],
   "source": [
    "for table in tables:\n",
    "    query = \"PRAGMA TABLE_INFO({})\".format(table)\n",
    "    schema = pd.read_sql_query(query,conn)\n",
    "    print(\"Schema of\",table)\n",
    "    display(schema)\n",
    "    print(\"-\"*100)\n",
    "    print(\"\\n\")"
   ]
  },
  {
   "cell_type": "code",
   "execution_count": 74,
   "metadata": {},
   "outputs": [
    {
     "data": {
      "text/html": [
       "<div>\n",
       "<style scoped>\n",
       "    .dataframe tbody tr th:only-of-type {\n",
       "        vertical-align: middle;\n",
       "    }\n",
       "\n",
       "    .dataframe tbody tr th {\n",
       "        vertical-align: top;\n",
       "    }\n",
       "\n",
       "    .dataframe thead th {\n",
       "        text-align: right;\n",
       "    }\n",
       "</style>\n",
       "<table border=\"1\" class=\"dataframe\">\n",
       "  <thead>\n",
       "    <tr style=\"text-align: right;\">\n",
       "      <th></th>\n",
       "      <th>Name</th>\n",
       "    </tr>\n",
       "  </thead>\n",
       "  <tbody>\n",
       "    <tr>\n",
       "      <th>0</th>\n",
       "      <td>Yash Chopra</td>\n",
       "    </tr>\n",
       "  </tbody>\n",
       "</table>\n",
       "</div>"
      ],
      "text/plain": [
       "           Name\n",
       "0   Yash Chopra"
      ]
     },
     "execution_count": 74,
     "metadata": {},
     "output_type": "execute_result"
    }
   ],
   "source": [
    "pd.read_sql_query('''SELECT Name FROM Person where trim(Name) Like 'Yash Chopra' ''' ,conn)"
   ]
  },
  {
   "cell_type": "code",
   "execution_count": 5,
   "metadata": {},
   "outputs": [
    {
     "data": {
      "text/html": [
       "<div>\n",
       "<style scoped>\n",
       "    .dataframe tbody tr th:only-of-type {\n",
       "        vertical-align: middle;\n",
       "    }\n",
       "\n",
       "    .dataframe tbody tr th {\n",
       "        vertical-align: top;\n",
       "    }\n",
       "\n",
       "    .dataframe thead th {\n",
       "        text-align: right;\n",
       "    }\n",
       "</style>\n",
       "<table border=\"1\" class=\"dataframe\">\n",
       "  <thead>\n",
       "    <tr style=\"text-align: right;\">\n",
       "      <th></th>\n",
       "      <th>COUNT(*)</th>\n",
       "    </tr>\n",
       "  </thead>\n",
       "  <tbody>\n",
       "    <tr>\n",
       "      <th>0</th>\n",
       "      <td>37566</td>\n",
       "    </tr>\n",
       "  </tbody>\n",
       "</table>\n",
       "</div>"
      ],
      "text/plain": [
       "   COUNT(*)\n",
       "0     37566"
      ]
     },
     "execution_count": 5,
     "metadata": {},
     "output_type": "execute_result"
    }
   ],
   "source": [
    "pd.read_sql_query('SELECT COUNT(*) FROM Person',conn)"
   ]
  },
  {
   "cell_type": "markdown",
   "metadata": {},
   "source": [
    "<h3> Preprocessing year in movies"
   ]
  },
  {
   "cell_type": "code",
   "execution_count": 6,
   "metadata": {},
   "outputs": [
    {
     "data": {
      "text/html": [
       "<div>\n",
       "<style scoped>\n",
       "    .dataframe tbody tr th:only-of-type {\n",
       "        vertical-align: middle;\n",
       "    }\n",
       "\n",
       "    .dataframe tbody tr th {\n",
       "        vertical-align: top;\n",
       "    }\n",
       "\n",
       "    .dataframe thead th {\n",
       "        text-align: right;\n",
       "    }\n",
       "</style>\n",
       "<table border=\"1\" class=\"dataframe\">\n",
       "  <thead>\n",
       "    <tr style=\"text-align: right;\">\n",
       "      <th></th>\n",
       "      <th>year</th>\n",
       "    </tr>\n",
       "  </thead>\n",
       "  <tbody>\n",
       "    <tr>\n",
       "      <th>0</th>\n",
       "      <td>2018</td>\n",
       "    </tr>\n",
       "    <tr>\n",
       "      <th>1</th>\n",
       "      <td>2018</td>\n",
       "    </tr>\n",
       "    <tr>\n",
       "      <th>2</th>\n",
       "      <td>2018</td>\n",
       "    </tr>\n",
       "    <tr>\n",
       "      <th>3</th>\n",
       "      <td>2012</td>\n",
       "    </tr>\n",
       "    <tr>\n",
       "      <th>4</th>\n",
       "      <td>2018</td>\n",
       "    </tr>\n",
       "    <tr>\n",
       "      <th>...</th>\n",
       "      <td>...</td>\n",
       "    </tr>\n",
       "    <tr>\n",
       "      <th>3468</th>\n",
       "      <td>1986</td>\n",
       "    </tr>\n",
       "    <tr>\n",
       "      <th>3469</th>\n",
       "      <td>1993</td>\n",
       "    </tr>\n",
       "    <tr>\n",
       "      <th>3470</th>\n",
       "      <td>2006</td>\n",
       "    </tr>\n",
       "    <tr>\n",
       "      <th>3471</th>\n",
       "      <td>1939</td>\n",
       "    </tr>\n",
       "    <tr>\n",
       "      <th>3472</th>\n",
       "      <td>1994</td>\n",
       "    </tr>\n",
       "  </tbody>\n",
       "</table>\n",
       "<p>3473 rows × 1 columns</p>\n",
       "</div>"
      ],
      "text/plain": [
       "      year\n",
       "0     2018\n",
       "1     2018\n",
       "2     2018\n",
       "3     2012\n",
       "4     2018\n",
       "...    ...\n",
       "3468  1986\n",
       "3469  1993\n",
       "3470  2006\n",
       "3471  1939\n",
       "3472  1994\n",
       "\n",
       "[3473 rows x 1 columns]"
      ]
     },
     "execution_count": 6,
     "metadata": {},
     "output_type": "execute_result"
    }
   ],
   "source": [
    "pd.read_sql_query('SELECT year FROM Movie',conn)"
   ]
  },
  {
   "cell_type": "markdown",
   "metadata": {},
   "source": [
    "<h2> we will use the cast substring when selecting year from now "
   ]
  },
  {
   "cell_type": "markdown",
   "metadata": {},
   "source": [
    "<h2> We will use trim(whatever column name) to remove trailing spaces"
   ]
  },
  {
   "cell_type": "markdown",
   "metadata": {
    "id": "O4Cj0Wdz23tA"
   },
   "source": [
    "## Useful tips:\n",
    "\n",
    "1. the year column in 'Movie' table, will have few chracters other than numbers which you need to be preprocessed, you need to get a substring of last 4 characters, its better if you convert it as int type, ex: CAST(SUBSTR(TRIM(m.year),-4) AS INTEGER)\n",
    "\n",
    "2. For almost all the TEXT columns we have show, please try to remove trailing spaces, you need to use TRIM() function\n",
    "\n",
    "3. When you are doing count(coulmn) it won't consider the \"NULL\" values, you might need to explore other alternatives like Count(*)"
   ]
  },
  {
   "cell_type": "markdown",
   "metadata": {
    "id": "jL9AmM3oE_IZ"
   },
   "source": [
    "## Q1 --- List all the directors who directed a 'Comedy' movie in a leap year. (You need to check that the genre is 'Comedy’ and year is a leap year) Your query should return director name, the movie name, and the year."
   ]
  },
  {
   "cell_type": "markdown",
   "metadata": {
    "id": "1jglmxDuE_Ib"
   },
   "source": [
    "<h4>To determine whether a year is a leap year, follow these steps:</h4>\n",
    "\n",
    "<ul>\n",
    "    <li><b>STEP-1:</b> If the year is evenly divisible by 4, go to step 2. Otherwise, go to step 5.</li>\n",
    "    <li><b>STEP-2:</b> If the year is evenly divisible by 100, go to step 3. Otherwise, go to step 4.</li>\n",
    "    <li><b>STEP-3:</b> If the year is evenly divisible by 400, go to step 4. Otherwise, go to step 5.</li>\n",
    "    <li><b>STEP-4:</b> The year is a leap year (it has 366 days).</li>\n",
    "    <li><b>STEP-5:</b> The year is not a leap year (it has 365 days).</li>\n",
    "</ul>\n",
    "\n",
    "Year 1900 is divisible by 4 and 100 but it is not divisible by 400, so it is not a leap year."
   ]
  },
  {
   "cell_type": "code",
   "execution_count": 7,
   "metadata": {
    "colab": {
     "base_uri": "https://localhost:8080/",
     "height": 606
    },
    "executionInfo": {
     "elapsed": 1695,
     "status": "error",
     "timestamp": 1600088797006,
     "user": {
      "displayName": "Applied AI Course",
      "photoUrl": "https://lh3.googleusercontent.com/a-/AOh14GhuSQ5tWcMSEyUXWi5GYagbq0BttLJf6r6PPxrB=s64",
      "userId": "00484516897554883881"
     },
     "user_tz": -330
    },
    "id": "yBo_pMrH23tD",
    "outputId": "cebe75ec-12f2-499f-854d-d33f2ab3a766"
   },
   "outputs": [
    {
     "name": "stdout",
     "output_type": "stream",
     "text": [
      "                Name                              title  year\n",
      "0       Milap Zaveri                         Mastizaade  2016\n",
      "1       Danny Leiner  Harold & Kumar Go to White Castle  2004\n",
      "2     Anurag Kashyap                 Gangs of Wasseypur  2012\n",
      "3       Frank Coraci        Around the World in 80 Days  2004\n",
      "4      Griffin Dunne             The Accidental Husband  2008\n",
      "5        Anurag Basu                             Barfi!  2012\n",
      "6    Gurinder Chadha                  Bride & Prejudice  2004\n",
      "7         Mike Judge    Beavis and Butt-Head Do America  1996\n",
      "8   Tarun Mansukhani                            Dostana  2008\n",
      "9       Shakun Batra                      Kapoor & Sons  2016\n",
      "CPU times: user 65.8 ms, sys: 6.87 ms, total: 72.7 ms\n",
      "Wall time: 74.7 ms\n"
     ]
    }
   ],
   "source": [
    "%%time\n",
    "def grader_1(q1):\n",
    "    q1_results  = pd.read_sql_query(q1,conn)\n",
    "    print(q1_results.head(10))\n",
    "    assert (q1_results.shape == (232,3))\n",
    "\n",
    "query1= '''SELECT p.Name,m.title,m.year FROM Person p JOIN M_Director md ON p.PID=md.PID join Movie m on m.MID=md.MID\n",
    "         WHERE m.MID IN (SELECT m.MID FROM Movie m JOIN M_Genre mg on m.MID=mg.MID where ((SUBSTR(m.year,-4,4)%4=0\n",
    "         and SUBSTR(m.year,-4,4)%100!=0) or SUBSTR(m.year,-4,4)%400=0) AND mg.GID IN (SELECT g.GID FROM\n",
    "         Genre g JOIN M_genre mg on g.GID=mg.GID WHERE g.Name LIKE '%Comedy%'))'''\n",
    "    \n",
    "grader_1(query1)\n",
    "\n"
   ]
  },
  {
   "cell_type": "markdown",
   "metadata": {
    "id": "LHFSrIJlE_Ih"
   },
   "source": [
    "## Q2 --- List the names of all the actors who played in the movie 'Anand' (1971)"
   ]
  },
  {
   "cell_type": "code",
   "execution_count": 8,
   "metadata": {
    "id": "5BSQOVlk23tS",
    "outputId": "c3752139-c22a-46d8-f0eb-0c23ffce7bf3"
   },
   "outputs": [
    {
     "name": "stdout",
     "output_type": "stream",
     "text": [
      "                Name\n",
      "0      Rajesh Khanna\n",
      "1   Amitabh Bachchan\n",
      "2      Sumita Sanyal\n",
      "3         Ramesh Deo\n",
      "4          Seema Deo\n",
      "5     Asit Kumar Sen\n",
      "6         Dev Kishan\n",
      "7       Atam Prakash\n",
      "8      Lalita Kumari\n",
      "9             Savita\n",
      "CPU times: user 161 ms, sys: 6.63 ms, total: 168 ms\n",
      "Wall time: 168 ms\n"
     ]
    }
   ],
   "source": [
    "%%time\n",
    "def grader_2(q2):\n",
    "    q2_results  = pd.read_sql_query(q2,conn)\n",
    "    print(q2_results.head(10))\n",
    "    assert (q2_results.shape == (17,1))\n",
    "\n",
    "\n",
    "query2 = \"\"\"SELECT p.Name FROM M_Cast m JOIN Person p on Trim(m.PID)=Trim(p.PID) where m.MID IN\n",
    "             (SELECT m.MID FROM M_Cast m JOIN Movie mm on m.MID=mm.MID WHERE mm.title LIKE 'Anand')\"\"\"\n",
    "grader_2(query2)"
   ]
  },
  {
   "cell_type": "markdown",
   "metadata": {
    "id": "bJ-mAUMmE_Il"
   },
   "source": [
    "## Q3 --- List all the actors who acted in a film before 1970 and in a film after 1990. (That is: < 1970 and > 1990.)"
   ]
  },
  {
   "cell_type": "code",
   "execution_count": 9,
   "metadata": {
    "colab": {
     "base_uri": "https://localhost:8080/"
    },
    "executionInfo": {
     "elapsed": 1054,
     "status": "ok",
     "timestamp": 1609074911453,
     "user": {
      "displayName": "Applied AI Course",
      "photoUrl": "https://lh3.googleusercontent.com/a-/AOh14GhuSQ5tWcMSEyUXWi5GYagbq0BttLJf6r6PPxrB=s64",
      "userId": "00484516897554883881"
     },
     "user_tz": -330
    },
    "id": "HARXLaJ623tY",
    "outputId": "8f4788df-84e8-42b9-b535-520f546e3348"
   },
   "outputs": [
    {
     "name": "stdout",
     "output_type": "stream",
     "text": [
      "(4942, 1)\n",
      "(62570, 1)\n",
      "True\n",
      "CPU times: user 234 ms, sys: 11.4 ms, total: 246 ms\n",
      "Wall time: 243 ms\n"
     ]
    }
   ],
   "source": [
    "%%time\n",
    "\n",
    "def grader_3a(query_less_1970, query_more_1990):\n",
    "    q3_a = pd.read_sql_query(query_less_1970,conn)\n",
    "    print(q3_a.shape)\n",
    "    q3_b = pd.read_sql_query(query_more_1990,conn)\n",
    "    print(q3_b.shape)\n",
    "    return (q3_a.shape == (4942,1)) and (q3_b.shape == (62570,1))\n",
    "\n",
    "query_less_1970 =\"\"\" \n",
    "Select p.PID from Person p \n",
    "inner join \n",
    "(\n",
    "    select trim(mc.PID) PD, mc.MID from M_cast mc \n",
    "where mc.MID \n",
    "in \n",
    "(\n",
    "    select mv.MID from Movie mv where CAST(SUBSTR(mv.year,-4) AS Integer)<1970\n",
    ")\n",
    ") r1 \n",
    "on r1.PD=p.PID \n",
    "\"\"\"\n",
    "query_more_1990 =\"\"\" \n",
    "Select p.PID from Person p \n",
    "inner join \n",
    "(\n",
    "    select trim(mc.PID) PD, mc.MID from M_cast mc \n",
    "where mc.MID \n",
    "in \n",
    "(\n",
    "    select mv.MID from Movie mv where CAST(SUBSTR(mv.year,-4) AS Integer)>1990\n",
    ")\n",
    ") r1 \n",
    "on r1.PD=p.PID \"\"\"\n",
    "print(grader_3a(query_less_1970, query_more_1990))\n",
    "\n",
    "# using the above two queries, you can find the answer to the given question "
   ]
  },
  {
   "cell_type": "code",
   "execution_count": 18,
   "metadata": {
    "id": "sbzv0UZZ23td",
    "outputId": "2882b0b2-b49f-4203-dc67-2c0f7547bdc2"
   },
   "outputs": [
    {
     "name": "stdout",
     "output_type": "stream",
     "text": [
      "         PID\n",
      "0  nm0000821\n",
      "1  nm0003987\n",
      "2  nm0004334\n",
      "3  nm0004429\n",
      "4  nm0004432\n",
      "5  nm0004433\n",
      "6  nm0004434\n",
      "7  nm0004435\n",
      "8  nm0004564\n",
      "9  nm0004569\n",
      "CPU times: user 196 ms, sys: 6.6 ms, total: 203 ms\n",
      "Wall time: 202 ms\n"
     ]
    }
   ],
   "source": [
    "%%time\n",
    "def grader_3(q3):\n",
    "    q3_results  = pd.read_sql_query(q3,conn)\n",
    "    print(q3_results.head(10))\n",
    "    assert (q3_results.shape == (300,1))\n",
    "\n",
    "query3 = '''Select p.PID from Person p \n",
    "inner join \n",
    "(\n",
    "    select trim(mc.PID) PD, mc.MID from M_cast mc \n",
    "where mc.MID \n",
    "in \n",
    "(\n",
    "    select mv.MID from Movie mv where CAST(SUBSTR(mv.year,-4) AS Integer)<1970\n",
    ")\n",
    ") r1 \n",
    "on r1.PD=p.PID \n",
    " \n",
    "INTERSECT\n",
    "\n",
    "Select p.PID from Person p \n",
    "inner join \n",
    "(\n",
    "    select trim(mc.PID) PD, mc.MID from M_cast mc \n",
    "where mc.MID \n",
    "in \n",
    "(\n",
    "    select mv.MID from Movie mv where CAST(SUBSTR(mv.year,-4) AS Integer)>1990\n",
    ")\n",
    ") r1 \n",
    "on r1.PD=p.PID''' \n",
    "         \n",
    "         \n",
    "                \n",
    "grader_3(query3)"
   ]
  },
  {
   "cell_type": "markdown",
   "metadata": {
    "id": "wd3tqFxaE_Ir"
   },
   "source": [
    "#### Q4 --- List all directors who directed 10 movies or more, in descending order of the number of movies they directed. Return the directors' names and the number of movies each of them directed."
   ]
  },
  {
   "cell_type": "code",
   "execution_count": 10,
   "metadata": {
    "id": "aGgqAYk723th",
    "outputId": "8451f009-5585-43c6-f3bd-ae9aef0ede4a"
   },
   "outputs": [
    {
     "name": "stdout",
     "output_type": "stream",
     "text": [
      "         PID  Count(*)\n",
      "0  nm0000180         1\n",
      "1  nm0000187         1\n",
      "2  nm0000229         1\n",
      "3  nm0000269         1\n",
      "4  nm0000386         1\n",
      "5  nm0000487         2\n",
      "6  nm0000965         1\n",
      "7  nm0001060         1\n",
      "8  nm0001162         1\n",
      "9  nm0001241         1\n",
      "True\n"
     ]
    }
   ],
   "source": [
    "#### %%time\n",
    "\n",
    "def grader_4a(query_4a):\n",
    "    query_4a = pd.read_sql_query(query_4a,conn)\n",
    "    print(query_4a.head(10)) \n",
    "    return (query_4a.shape == (1462,2))\n",
    "\n",
    "query_4a =\"\"\" SELECT p.PID, Count(*) FROM M_Director m Join Person p on (m.PID)=p.PID Join Movie \n",
    "              mm on mm.MID=m.MID group by p.PID\"\"\"\n",
    "print(grader_4a(query_4a))\n",
    "\n",
    "# using the above query, you can write the answer to the given question"
   ]
  },
  {
   "cell_type": "code",
   "execution_count": 30,
   "metadata": {
    "id": "xROoSzcF23tn",
    "outputId": "76366cff-58f5-4d83-d58b-017c0f7afc58"
   },
   "outputs": [
    {
     "name": "stdout",
     "output_type": "stream",
     "text": [
      "                    Name  Movie_count\n",
      "0           David Dhawan           39\n",
      "1           Mahesh Bhatt           35\n",
      "2        Ram Gopal Varma           30\n",
      "3           Priyadarshan           30\n",
      "4           Vikram Bhatt           29\n",
      "5   Hrishikesh Mukherjee           27\n",
      "6            Yash Chopra           21\n",
      "7         Shakti Samanta           19\n",
      "8        Basu Chatterjee           19\n",
      "9           Subhash Ghai           18\n",
      "CPU times: user 14.4 s, sys: 51 ms, total: 14.5 s\n",
      "Wall time: 14.5 s\n"
     ]
    }
   ],
   "source": [
    "%%time\n",
    "def grader_4(q4):\n",
    "    q4_results  = pd.read_sql_query(q4,conn)\n",
    "    print(q4_results.head(10))\n",
    "    assert (q4_results.shape == (58,2))\n",
    "\n",
    "query4 = \"\"\" SELECT p.Name,COUNT(m.PID) Movie_count from Person p\n",
    "            join M_Director m on Trim(p.PID)=Trim(m.PID) JOIN\n",
    "            Movie mm on mm.MID=m.MID GROUP BY m.PID HAVING Movie_count>=10 ORDER BY Movie_count DESC\"\"\"\n",
    "grader_4(query4)"
   ]
  },
  {
   "cell_type": "markdown",
   "metadata": {
    "id": "OnulNpiOE_Iw"
   },
   "source": [
    "## Q5.a --- For each year, count the number of movies in that year that had only female actors."
   ]
  },
  {
   "cell_type": "code",
   "execution_count": 3,
   "metadata": {
    "id": "ES-gGiNG23tr",
    "outputId": "05e73aed-8917-4d9f-b746-619d1c48735b",
    "scrolled": true
   },
   "outputs": [
    {
     "name": "stdout",
     "output_type": "stream",
     "text": [
      "         MID  Gender  Count\n",
      "0  tt0021594    None      1\n",
      "1  tt0021594  Female      3\n",
      "2  tt0021594    Male      5\n",
      "3  tt0026274    None      2\n",
      "4  tt0026274  Female     11\n",
      "5  tt0026274    Male      9\n",
      "6  tt0027256    None      2\n",
      "7  tt0027256  Female      5\n",
      "8  tt0027256    Male      8\n",
      "9  tt0028217  Female      3\n",
      "True\n",
      "         MID Gender  Count\n",
      "0  tt0021594   Male      5\n",
      "1  tt0026274   Male      9\n",
      "2  tt0027256   Male      8\n",
      "3  tt0028217   Male      7\n",
      "4  tt0031580   Male     27\n",
      "5  tt0033616   Male     46\n",
      "6  tt0036077   Male     11\n",
      "7  tt0038491   Male      7\n",
      "8  tt0039654   Male      6\n",
      "9  tt0040067   Male     10\n",
      "True\n",
      "CPU times: user 285 ms, sys: 21 ms, total: 306 ms\n",
      "Wall time: 306 ms\n"
     ]
    }
   ],
   "source": [
    "%%time\n",
    "\n",
    "# note that you don't need TRIM for person table\n",
    "\n",
    "def grader_5aa(query_5aa):\n",
    "    query_5aa = pd.read_sql_query(query_5aa,conn)\n",
    "    print(query_5aa.head(10)) \n",
    "    return (query_5aa.shape == (8846,3))\n",
    "\n",
    "query_5aa =\"\"\"SELECT c.MID, p.Gender, COUNT(*) AS Count\n",
    "                FROM Person p JOIN M_Cast c\n",
    "                ON (p.PID) = Trim(c.PID)\n",
    "                GROUP BY c.MID, p.Gender\"\"\"\n",
    "print(grader_5aa(query_5aa))\n",
    "\n",
    "def grader_5ab(query_5ab):\n",
    "    query_5ab = pd.read_sql_query(query_5ab,conn)\n",
    "    print(query_5ab.head(10)) \n",
    "    return (query_5ab.shape == (3469, 3))\n",
    "\n",
    "query_5ab =\"\"\"SELECT c.MID, p.Gender, COUNT(*) Count\n",
    "                FROM M_Cast c INNER JOIN Person p\n",
    "                ON (p.PID) = trim(c.PID) where p.Gender='Male' GROUP BY c.MID, p.Gender Having Count>=1\"\"\"\n",
    "        \n",
    "print(grader_5ab(query_5ab))\n",
    "\n",
    "\n",
    "# using the above queries, you can write the answer to the given question"
   ]
  },
  {
   "cell_type": "code",
   "execution_count": 94,
   "metadata": {
    "colab": {
     "base_uri": "https://localhost:8080/",
     "height": 153
    },
    "id": "zQOIawPME_Ix",
    "outputId": "48450a58-61f0-4bc6-f71e-ff7df4ab7f80",
    "scrolled": true
   },
   "outputs": [
    {
     "name": "stdout",
     "output_type": "stream",
     "text": [
      "  SUBSTR(year,-4,4)  COUNT(MID)\n",
      "0              1999           1\n",
      "1              2000           1\n",
      "2              1939           1\n",
      "3              2018           1\n",
      "CPU times: user 128 ms, sys: 4.64 ms, total: 133 ms\n",
      "Wall time: 131 ms\n"
     ]
    }
   ],
   "source": [
    "%%time\n",
    "def grader_5a(q5a):\n",
    "    q5a_results  = pd.read_sql_query(q5a,conn)\n",
    "    print(q5a_results.head(10))\n",
    "    assert (q5a_results.shape == (4,2))\n",
    "\n",
    "query5a = '''SELECT SUBSTR(year,-4,4), COUNT(MID) FROM Movie where MID NOT IN\n",
    "      (SELECT MID FROM (SELECT c.MID, p.Gender, COUNT(*) Count FROM\n",
    "                          M_Cast c INNER JOIN Person p\n",
    "                          ON (p.PID) = trim(c.PID) where p.Gender='Male' GROUP BY c.MID, p.Gender Having Count>=1))\n",
    "                          GROUP BY MID'''\n",
    "grader_5a(query5a)"
   ]
  },
  {
   "cell_type": "markdown",
   "metadata": {},
   "source": [
    "## Q5.b --- Now include a small change: report for each year the percentage of movies in that year with only female actors, and the total number of movies made that year. For example, one answer will be: 1990 31.81 13522 meaning that in 1990 there were 13,522 movies, and 31.81% had only female actors. You do not need to round your answer."
   ]
  },
  {
   "cell_type": "code",
   "execution_count": 145,
   "metadata": {
    "scrolled": false
   },
   "outputs": [
    {
     "name": "stdout",
     "output_type": "stream",
     "text": [
      "   Year  ((female_count.OnlyF)*100)/total_count.TT  TT\n",
      "0  1999                                          1  66\n",
      "1  2000                                          1  64\n",
      "2  1939                                         50   2\n",
      "3  2018                                          1  93\n"
     ]
    }
   ],
   "source": [
    "#source: https://stackoverflow.com/questions/57743348/sql-query-imdb-data-to-count-the-total-movies-with-only-female-cast-per-year\n",
    "\n",
    "def grader_5b(q5b):\n",
    "    q5b_results  = pd.read_sql_query(q5b,conn)\n",
    "    print(q5b_results.head(10))\n",
    "    assert (q5b_results.shape == (4,3))\n",
    "\n",
    "query5b = '''SELECT female_count.Year, ((female_count.OnlyF)*100)/total_count.TT,total_count.TT \n",
    "FROM\n",
    "\n",
    "((SELECT SUBSTR(year,-4,4) Year, COUNT(MID) OnlyF FROM Movie where MID NOT IN\n",
    "      (SELECT MID FROM (SELECT c.MID, p.Gender, COUNT(*) Count FROM\n",
    "                          M_Cast c INNER JOIN Person p\n",
    "                          ON (p.PID) = trim(c.PID) where p.Gender='Male' GROUP BY c.MID, p.Gender Having Count>=1))\n",
    "                          GROUP BY MID) female_count,\n",
    " (SELECT Movie.year MM,count(*) TT FROM Movie group by Movie.year) total_count)\n",
    "WHERE female_count.year=total_count.MM'''\n",
    "grader_5b(query5b)"
   ]
  },
  {
   "cell_type": "markdown",
   "metadata": {
    "id": "d5mvJcHDE_I6"
   },
   "source": [
    "### Q6 --- Find the film(s) with the largest cast. Return the movie title and the size of the cast. By \"cast size\" we mean the number of distinct actors that played in that movie: if an actor played multiple roles, or if it simply occurs multiple times in casts, we still count her/him only once."
   ]
  },
  {
   "cell_type": "code",
   "execution_count": 156,
   "metadata": {
    "colab": {
     "base_uri": "https://localhost:8080/",
     "height": 255
    },
    "id": "vpr9gGg6E_I7",
    "outputId": "bceec796-502e-4bb1-ce5e-0f8eb703e2f5",
    "scrolled": true
   },
   "outputs": [
    {
     "name": "stdout",
     "output_type": "stream",
     "text": [
      "                        title    J\n",
      "0               Ocean's Eight  238\n",
      "1                    Apaharan  233\n",
      "2                        Gold  215\n",
      "3             My Name Is Khan  213\n",
      "4  Captain America: Civil War  191\n",
      "5                    Geostorm  170\n",
      "6                     Striker  165\n",
      "7                        2012  154\n",
      "8                      Pixels  144\n",
      "9       Yamla Pagla Deewana 2  140\n",
      "CPU times: user 129 ms, sys: 8.8 ms, total: 138 ms\n",
      "Wall time: 136 ms\n"
     ]
    }
   ],
   "source": [
    "%%time\n",
    "def grader_6(q6):\n",
    "    q6_results  = pd.read_sql_query(q6,conn)\n",
    "    print(q6_results.head(10))\n",
    "    assert (q6_results.shape == (3473, 2))\n",
    "\n",
    "query6 = \"\"\" Select m.title, Count(*) J from Movie m join M_Cast mc on m.MID=mc.MID Group by m.MID ORDER BY\n",
    "             J desc\"\"\"\n",
    "grader_6(query6)"
   ]
  },
  {
   "cell_type": "markdown",
   "metadata": {
    "id": "E6mOLxNgTby6"
   },
   "source": [
    "### Q7 --- A decade is a sequence of 10 consecutive years. \n",
    "### For example, say in your database you have movie information starting from 1931. \n",
    "### the first decade is 1931, 1932, ..., 1940,\n",
    "### the second decade is 1932, 1933, ..., 1941 and so on. \n",
    "### Find the decade D with the largest number of films and the total number of films in D"
   ]
  },
  {
   "cell_type": "code",
   "execution_count": 16,
   "metadata": {
    "id": "ZfOWt8IW23uE",
    "outputId": "2f06e789-9f45-44ed-d1d7-d628170bb6c5"
   },
   "outputs": [
    {
     "name": "stdout",
     "output_type": "stream",
     "text": [
      "  (SUBSTR(year,-4,4))  Count(SUBSTR(year,-4,4))\n",
      "0                1931                         1\n",
      "1                1936                         3\n",
      "2                1939                         2\n",
      "3                1941                         1\n",
      "4                1943                         1\n",
      "5                1946                         2\n",
      "6                1947                         2\n",
      "7                1948                         3\n",
      "8                1949                         3\n",
      "9                1950                         2\n",
      "CPU times: user 8.33 ms, sys: 1.39 ms, total: 9.72 ms\n",
      "Wall time: 10 ms\n"
     ]
    }
   ],
   "source": [
    "%%time\n",
    "def grader_7a(q7a):\n",
    "    q7a_results  = pd.read_sql_query(q7a,conn)\n",
    "    print(q7a_results.head(10))\n",
    "    assert (q7a_results.shape == (78, 2))\n",
    "\n",
    "query7a = '''SELECT distinct(SUBSTR(year,-4,4)), Count(SUBSTR(year,-4,4)) From Movie GROUP BY SUBSTR(year,-4,4)'''\n",
    "grader_7a(query7a)\n",
    "\n",
    "\n",
    "# using the above query, you can write the answer to the given question"
   ]
  },
  {
   "cell_type": "code",
   "execution_count": 42,
   "metadata": {
    "id": "sBMzLrIY23uJ",
    "outputId": "6f40ad73-684a-44f9-a7ce-c0ec253df7e7"
   },
   "outputs": [
    {
     "name": "stdout",
     "output_type": "stream",
     "text": [
      "      Y  Z     X  C\n",
      "0  1931  1  1931  1\n",
      "1  1931  1  1936  3\n",
      "2  1931  1  1939  2\n",
      "3  1936  3  1936  3\n",
      "4  1936  3  1939  2\n",
      "5  1936  3  1941  1\n",
      "6  1936  3  1943  1\n",
      "7  1939  2  1939  2\n",
      "8  1939  2  1941  1\n",
      "9  1939  2  1943  1\n",
      "CPU times: user 14.3 ms, sys: 2.35 ms, total: 16.7 ms\n",
      "Wall time: 15.5 ms\n"
     ]
    }
   ],
   "source": [
    "%%time\n",
    "def grader_7b(q7b):\n",
    "    q7b_results  = pd.read_sql_query(q7b,conn)\n",
    "    print(q7b_results.head(10))\n",
    "    assert (q7b_results.shape == (713, 4))\n",
    "\n",
    "query7b = \"\"\"SELECT m.Y, m.Z,n.X,n.C from\n",
    "            (SELECT year Y, COUNT(*) Z From Movie group by year) m ,  \n",
    "            (SELECT year X, COUNT(*) C From Movie group by year) n WHERE\n",
    "             n.X<=m.Y+9 and n.X>=m.Y\"\"\"\n",
    "grader_7b(query7b)\n",
    "# if you see the below results the first movie year is less than 2nd movie year and \n",
    "# 2nd movie year is less or equal to the first movie year+9\n",
    "\n",
    "# using the above query, you can write the answer to the given question"
   ]
  },
  {
   "cell_type": "code",
   "execution_count": 24,
   "metadata": {
    "colab": {
     "base_uri": "https://localhost:8080/",
     "height": 255
    },
    "id": "NKqbguuqE_JA",
    "outputId": "2819ceef-0787-45f9-c38f-9648ccf787f0"
   },
   "outputs": [
    {
     "name": "stdout",
     "output_type": "stream",
     "text": [
      "   year    aa\n",
      "0  2008  1126\n",
      "CPU times: user 76.5 ms, sys: 3.74 ms, total: 80.3 ms\n",
      "Wall time: 80.5 ms\n"
     ]
    }
   ],
   "source": [
    "%%time\n",
    "def grader_7(q7):\n",
    "    q7_results  = pd.read_sql_query(q7,conn)\n",
    "    print(q7_results.head(10))\n",
    "    assert (q7_results.shape == (1, 2))\n",
    "\n",
    "query7 = \"\"\" SELECT (y.year),Count(*) aa FROM\n",
    "             (SELECT DISTINCT(year) FROM Movie) y \n",
    "              JOIN Movie m on m.year>=y.year and m.year<=y.year+9\n",
    "              group by y.year order by aa Desc limit 1\"\"\"\n",
    "grader_7(query7)\n",
    "# if you check the output we are printinng all the year in that decade, its fine you can print 2008 or 2008-2017"
   ]
  },
  {
   "cell_type": "markdown",
   "metadata": {
    "id": "Jbm3Oy3hT8d9"
   },
   "source": [
    "## Q8 --- Find all the actors that made more movies with Yash Chopra than any other director."
   ]
  },
  {
   "cell_type": "code",
   "execution_count": 44,
   "metadata": {
    "id": "DZJ7WMrk23uR",
    "outputId": "6f379ab4-bfb0-4a2f-dc6a-ae221cb65a0e"
   },
   "outputs": [
    {
     "name": "stdout",
     "output_type": "stream",
     "text": [
      "         PID         PID  count(*)\n",
      "0  nm0000180   nm0000027         1\n",
      "1  nm0000180   nm0001114         1\n",
      "2  nm0000180   nm0001919         1\n",
      "3  nm0000180   nm0006762         1\n",
      "4  nm0000180   nm0030062         1\n",
      "5  nm0000180   nm0038970         1\n",
      "6  nm0000180   nm0051856         1\n",
      "7  nm0000180   nm0085966         1\n",
      "8  nm0000180   nm0097889         1\n",
      "9  nm0000180   nm0125497         1\n",
      "CPU times: user 326 ms, sys: 36.3 ms, total: 362 ms\n",
      "Wall time: 376 ms\n"
     ]
    }
   ],
   "source": [
    "%%time\n",
    "def grader_8a(q8a):\n",
    "    q8a_results  = pd.read_sql_query(q8a,conn)\n",
    "    print(q8a_results.head(10))\n",
    "    assert (q8a_results.shape == (73408, 3))\n",
    "\n",
    "query8a = \"\"\" SELECT mm.PID,m.PID,count(*) FROM M_Director mm \n",
    "              JOIN M_Cast m on mm.MID=m.MID group by mm.PID,m.PID\"\"\"\n",
    "grader_8a(query8a)\n",
    "\n",
    "# using the above query, you can write the answer to the given question"
   ]
  },
  {
   "cell_type": "code",
   "execution_count": 84,
   "metadata": {
    "colab": {
     "base_uri": "https://localhost:8080/",
     "height": 255
    },
    "id": "SYMTcHixE_JH",
    "outputId": "8cc98748-cc3b-4cbf-fa99-3af323f0d094"
   },
   "outputs": [
    {
     "name": "stdout",
     "output_type": "stream",
     "text": [
      "          Actor_Name  Movie_count_with_yash_chopra\n",
      "0        Jagdish Raj                            11\n",
      "1   Manmohan Krishna                            10\n",
      "2           Iftekhar                             9\n",
      "3      Shashi Kapoor                             7\n",
      "4      Rakhee Gulzar                             5\n",
      "5     Waheeda Rehman                             5\n",
      "6           Ravikant                             4\n",
      "7     Achala Sachdev                             4\n",
      "8        Neetu Singh                             4\n",
      "9      Leela Chitnis                             3\n",
      "(245, 2)\n",
      "CPU times: user 496 ms, sys: 22.3 ms, total: 518 ms\n",
      "Wall time: 520 ms\n"
     ]
    }
   ],
   "source": [
    "%%time\n",
    "\n",
    "def grader_8(q8):\n",
    "    q8_results  = pd.read_sql_query(q8,conn)\n",
    "    print(q8_results.head(10))\n",
    "    print(q8_results.shape)\n",
    "    assert (q8_results.shape == (245, 2))\n",
    "\n",
    "query8 = '''SELECT p.Name Actor_Name, mov_cnt Movie_count_with_yash_chopra \n",
    "            FROM\n",
    "                (SELECT actor act_id, dir_name, movies mov_cnt \n",
    "                    FROM\n",
    "\n",
    "                    (SELECT trim(mc.PID) actor, p.Name dir_name, trim(md.PID) director, COUNT(*) as movies \n",
    "                        FROM M_Cast mc\n",
    "                        JOIN M_Director md ON trim(mc.MID) = md.MID\n",
    "                        JOIN Person p ON director = p.PID\n",
    "                        GROUP BY actor,director\n",
    "                    ) \n",
    "                \n",
    "            WHERE (act_id,mov_cnt) IN\n",
    "                \n",
    "                    (SELECT actor act_id, MAX(movies) \n",
    "                        FROM\n",
    "                        (SELECT trim(mc.PID) actor, trim(md.PID) director, COUNT(*) as movies \n",
    "                            FROM M_Cast mc\n",
    "                            JOIN M_Director md ON trim(mc.MID) = md.MID\n",
    "                            GROUP BY actor,director\n",
    "                        )\n",
    "                    GROUP BY act_id\n",
    "                    )\n",
    "            AND dir_name LIKE '%Yash Chopra%'\n",
    "            )\n",
    "        JOIN Person p ON act_id = p.PID\n",
    "        ORDER BY Movie_count_with_yash_chopra DESC\n",
    "               '''\n",
    "grader_8(query8)"
   ]
  },
  {
   "cell_type": "markdown",
   "metadata": {
    "id": "2j8Fc9jUUJ9C"
   },
   "source": [
    "## Q9 --- The Shahrukh number of an actor is the length of the shortest path between the actor and Shahrukh Khan in the \"co-acting\" graph. That is, Shahrukh Khan has Shahrukh number 0; all actors who acted in the same film as Shahrukh have Shahrukh number 1; all actors who acted in the same film as some actor with Shahrukh number 1 have Shahrukh number 2, etc. Return all actors whose Shahrukh number is 2."
   ]
  },
  {
   "cell_type": "code",
   "execution_count": 55,
   "metadata": {
    "id": "3FnJ_19z23ub",
    "outputId": "c63ac439-ad2b-4aa4-8aeb-dc0245670f34"
   },
   "outputs": [
    {
     "name": "stdout",
     "output_type": "stream",
     "text": [
      "         PID\n",
      "0  nm0004418\n",
      "1  nm1995953\n",
      "2  nm2778261\n",
      "3  nm0631373\n",
      "4  nm0241935\n",
      "5  nm0792116\n",
      "6  nm1300111\n",
      "7  nm0196375\n",
      "8  nm1464837\n",
      "9  nm2868019\n",
      "(2382, 1)\n",
      "CPU times: user 199 ms, sys: 7.09 ms, total: 206 ms\n",
      "Wall time: 209 ms\n"
     ]
    }
   ],
   "source": [
    "%%time\n",
    "def grader_9a(q9a):\n",
    "    q9a_results  = pd.read_sql_query(q9a,conn)\n",
    "    print(q9a_results.head(10))\n",
    "    print(q9a_results.shape)\n",
    "    assert (q9a_results.shape == (2382, 1))\n",
    "\n",
    "query9a = \"\"\"SELECT distinct(p.PID) FROM M_Cast m join Person p on trim(m.PID)=(p.PID) where m.MID IN \n",
    "            (SELECT (m.MID) from M_Cast m join Person p on (p.PID)=trim(m.PID) \n",
    "            where trim(p.Name) LIKE '%Shah Rukh Khan%') AND  trim(p.Name) != 'Shah Rukh Khan' \"\"\"\n",
    "grader_9a(query9a)\n",
    "# using the above query, you can write the answer to the given question\n",
    "\n",
    "# selecting actors who acted with srk (S1)\n",
    "# selecting all movies where S1 actors acted, this forms S2 movies list\n",
    "# selecting all actors who acted in S2 movies, this gives us S2 actors along with S1 actors\n",
    "# removing S1 actors from the combined list of S1 & S2 actors, so that we get only S2 actors "
   ]
  },
  {
   "cell_type": "code",
   "execution_count": 79,
   "metadata": {
    "colab": {
     "base_uri": "https://localhost:8080/",
     "height": 255
    },
    "id": "5o6imc82E_JS",
    "outputId": "29de4fa8-ddbb-44ba-ad8f-12d2e48d278f"
   },
   "outputs": [
    {
     "name": "stdout",
     "output_type": "stream",
     "text": [
      "          a2\n",
      "0  nm2539953\n",
      "1  nm0922035\n",
      "2  nm0324658\n",
      "3  nm0943079\n",
      "4  nm0000218\n",
      "5  nm0001394\n",
      "6  nm0929654\n",
      "7  nm3116102\n",
      "8  nm3248891\n",
      "9  nm2418809\n",
      "(25698, 1)\n",
      "CPU times: user 771 ms, sys: 8.94 ms, total: 780 ms\n",
      "Wall time: 779 ms\n"
     ]
    }
   ],
   "source": [
    "%%time\n",
    "def grader_9(q9):\n",
    "    q9_results  = pd.read_sql_query(q9,conn)\n",
    "    print(q9_results.head(10))\n",
    "    print(q9_results.shape)\n",
    "    assert (q9_results.shape == (25698, 1))\n",
    "\n",
    "query9 = \"\"\" WITH S1_act AS \n",
    "\n",
    "            (SELECT distinct(p.PID) a1 FROM M_Cast m join Person p on trim(m.PID)=(p.PID) where m.MID IN \n",
    "            (SELECT (m.MID) from M_Cast m join Person p on (p.PID)=trim(m.PID) \n",
    "             where trim(p.Name) LIKE '%Shah Rukh Khan%') AND  trim(p.Name) != 'Shah Rukh Khan'),\n",
    "            \n",
    "             S1_mov AS\n",
    "             \n",
    "             (SELECT distinct(m.MID) M1 from M_Cast m join Person p on (p.PID)=trim(m.PID) \n",
    "             where trim(p.PID) IN  (SELECT distinct(p.PID) a1 FROM M_Cast m join Person p on trim(m.PID)=(p.PID) where m.MID IN \n",
    "            (SELECT (m.MID) from M_Cast m join Person p on (p.PID)=trim(m.PID) \n",
    "             where trim(p.Name) LIKE '%Shah Rukh Khan%') AND  trim(p.Name) != 'Shah Rukh Khan')  and m.MID NOT IN (SELECT (m.MID) from M_Cast m join Person p on (p.PID)=trim(m.PID) \n",
    "             where trim(p.Name) LIKE '%Shah Rukh Khan%'))\n",
    "             \n",
    "             \n",
    "             SELECT S2.a2 from (SELECT distinct(p.PID) a2 FROM M_Cast m join Person p on trim(m.PID)=(p.PID) \n",
    "             where m.MID IN S1_mov) S2 where S2.a2 Not in S1_act\n",
    "        \n",
    "             \n",
    "             \n",
    "             \n",
    "             \n",
    "             \n",
    "             \n",
    "             \n",
    "             \n",
    "             \n",
    "             \"\"\"\n",
    "grader_9(query9)"
   ]
  }
 ],
 "metadata": {
  "colab": {
   "collapsed_sections": [],
   "name": "SQL sample queries.ipynb",
   "provenance": [],
   "toc_visible": true
  },
  "kernelspec": {
   "display_name": "Python 3 (ipykernel)",
   "language": "python",
   "name": "python3"
  },
  "language_info": {
   "codemirror_mode": {
    "name": "ipython",
    "version": 3
   },
   "file_extension": ".py",
   "mimetype": "text/x-python",
   "name": "python",
   "nbconvert_exporter": "python",
   "pygments_lexer": "ipython3",
   "version": "3.9.7"
  }
 },
 "nbformat": 4,
 "nbformat_minor": 1
}
